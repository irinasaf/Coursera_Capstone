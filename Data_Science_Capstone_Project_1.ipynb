{
 "cells": [
  {
   "cell_type": "markdown",
   "id": "e74de9bf",
   "metadata": {},
   "source": [
    "## Applied Data Science Capstone"
   ]
  },
  {
   "cell_type": "markdown",
   "id": "4f8848d6",
   "metadata": {},
   "source": [
    "The aim of this notebook is to complete the IBM Applied Data Science Capstone project."
   ]
  },
  {
   "cell_type": "code",
   "execution_count": 1,
   "id": "f9d54be2",
   "metadata": {},
   "outputs": [],
   "source": [
    "import pandas as pd\n",
    "import numpy as np"
   ]
  },
  {
   "cell_type": "code",
   "execution_count": 2,
   "id": "8a677c82",
   "metadata": {},
   "outputs": [
    {
     "name": "stdout",
     "output_type": "stream",
     "text": [
      "Hello Capstone Project Course!\n"
     ]
    }
   ],
   "source": [
    "print('Hello Capstone Project Course!')"
   ]
  },
  {
   "cell_type": "code",
   "execution_count": null,
   "id": "cafda62b",
   "metadata": {},
   "outputs": [],
   "source": []
  }
 ],
 "metadata": {
  "kernelspec": {
   "display_name": "Python 3",
   "language": "python",
   "name": "python3"
  },
  "language_info": {
   "codemirror_mode": {
    "name": "ipython",
    "version": 3
   },
   "file_extension": ".py",
   "mimetype": "text/x-python",
   "name": "python",
   "nbconvert_exporter": "python",
   "pygments_lexer": "ipython3",
   "version": "3.8.8"
  }
 },
 "nbformat": 4,
 "nbformat_minor": 5
}
